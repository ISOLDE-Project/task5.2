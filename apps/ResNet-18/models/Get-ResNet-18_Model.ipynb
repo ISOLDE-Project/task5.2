{
 "cells": [
  {
   "cell_type": "markdown",
   "metadata": {},
   "source": [
    "# ResNet-18 Torch example  \n",
    "This notebook will download a trained ResNet-18 from [pytorch models](https://download.pytorch.org/models/resnet18-f37072fd.pth) and stores it locally for further usage, \n",
    "[Inference.ipynb](./Inference.ipynb)"
   ]
  },
  {
   "cell_type": "code",
   "execution_count": null,
   "metadata": {},
   "outputs": [],
   "source": [
    "import torch\n",
    "import torch.nn as nn\n",
    "from torchvision import models, transforms\n",
    "from PIL import Image\n",
    "import requests\n",
    "from io import BytesIO\n"
   ]
  },
  {
   "cell_type": "code",
   "execution_count": null,
   "metadata": {},
   "outputs": [],
   "source": [
    "import os\n",
    "\n",
    "def create_folder(path):\n",
    "    try:\n",
    "        os.makedirs(path, exist_ok=True)\n",
    "        print(f\"Folder '{path}' created successfully.\")\n",
    "    except OSError as e:\n",
    "        print(f\"Error creating folder '{path}': {e}\")\n",
    "\n"
   ]
  },
  {
   "cell_type": "code",
   "execution_count": null,
   "metadata": {},
   "outputs": [],
   "source": [
    "\n",
    "# Load pre-trained ResNet-18 model\n",
    "model = models.resnet18(pretrained=True)\n",
    "model.eval()\n",
    "# Append a softmax layer to the model\n",
    "#model = nn.Sequential(model, nn.Softmax(dim=0)) ##!not working!!\n",
    "folder_path = 'zoo'\n",
    "create_folder(folder_path)\n",
    "torch.save(model.state_dict(), 'zoo/resnet18_model.pth')\n"
   ]
  },
  {
   "cell_type": "code",
   "execution_count": null,
   "metadata": {},
   "outputs": [],
   "source": [
    "from torchsummary import summary\n",
    "summary(model, (3, 224, 224))"
   ]
  },
  {
   "cell_type": "code",
   "execution_count": null,
   "metadata": {},
   "outputs": [],
   "source": [
    "\n",
    "folder_path = 'onnx'\n",
    "create_folder(folder_path)\n",
    "# Example input to the model\n",
    "example_input = torch.randn(1, 3, 224, 224)\n",
    "\n",
    "# Export the model to ONNX format\n",
    "onnx_path = \"onnx/resnet18.onnx\"\n",
    "torch.onnx.export(model, example_input, onnx_path, verbose=True)\n",
    "\n",
    "print(f\"Model exported to {onnx_path}\")\n"
   ]
  },
  {
   "cell_type": "code",
   "execution_count": null,
   "metadata": {},
   "outputs": [],
   "source": [
    "\n",
    "# Perform inference on an example image\n",
    "image_url = 'https://www.hartz.com/wp-content/uploads/2022/04/small-dog-owners-1.jpg'  # Provide an image URL\n",
    "response = requests.get(image_url,verify=False)\n",
    "img = Image.open(BytesIO(response.content))\n"
   ]
  },
  {
   "cell_type": "code",
   "execution_count": null,
   "metadata": {},
   "outputs": [],
   "source": [
    "# Preprocess the image\n",
    "preprocess = transforms.Compose([\n",
    "    transforms.Resize((224, 224)),\n",
    "    transforms.ToTensor(),\n",
    "    transforms.Normalize(mean=[0.485, 0.456, 0.406], std=[0.229, 0.224, 0.225]),\n",
    "])\n",
    "\n",
    "input_data = preprocess(img)\n",
    "input_data = input_data.unsqueeze(0)  \n"
   ]
  },
  {
   "cell_type": "code",
   "execution_count": null,
   "metadata": {},
   "outputs": [],
   "source": [
    "\n",
    "# Make the prediction\n",
    "with torch.no_grad():\n",
    "    output = model(input_data)\n",
    "\n",
    "# Post-processing\n",
    "#probabilities = output[0]\n",
    "probabilities = torch.nn.functional.softmax(output[0], dim=0)\n",
    "predicted_class = torch.argmax(probabilities).item()\n",
    "\n",
    "\n"
   ]
  },
  {
   "cell_type": "code",
   "execution_count": null,
   "metadata": {},
   "outputs": [],
   "source": [
    "# Download ImageNet labels\n",
    "LABELS_URL = 'https://raw.githubusercontent.com/anishathalye/imagenet-simple-labels/master/imagenet-simple-labels.json'\n",
    "labels = requests.get(LABELS_URL,verify=False).json()\n"
   ]
  },
  {
   "cell_type": "code",
   "execution_count": null,
   "metadata": {},
   "outputs": [],
   "source": [
    "import json\n",
    "# Save the list to a JSON file\n",
    "file_path = 'zoo/imagenet-simple-labels.json'\n",
    "with open(file_path, 'w') as file:\n",
    "    json.dump(labels, file)"
   ]
  },
  {
   "cell_type": "code",
   "execution_count": null,
   "metadata": {},
   "outputs": [],
   "source": [
    "\n",
    "# Get the predicted label\n",
    "predicted_label = labels[predicted_class]\n",
    "\n",
    "print(f\"Predicted class: {predicted_class}\")\n",
    "print(f\"Predicted label: {predicted_label}\")\n",
    "print(f\"Probability: {probabilities[predicted_class]:.2%}\")"
   ]
  }
 ],
 "metadata": {
  "kernelspec": {
   "display_name": "torch",
   "language": "python",
   "name": "python3"
  },
  "language_info": {
   "codemirror_mode": {
    "name": "ipython",
    "version": 3
   },
   "file_extension": ".py",
   "mimetype": "text/x-python",
   "name": "python",
   "nbconvert_exporter": "python",
   "pygments_lexer": "ipython3",
   "version": "3.10.14"
  }
 },
 "nbformat": 4,
 "nbformat_minor": 2
}
